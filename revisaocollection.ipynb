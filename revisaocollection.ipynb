{
 "cells": [
  {
   "cell_type": "markdown",
   "metadata": {},
   "source": [
    "# Revisão \n",
    "\n",
    "Collection:\n",
    "\n",
    "Lista [] = Muda\n",
    "Tupla () = Não muda\n",
    "Conjuntos {}\n",
    "Dicionários {}"
   ]
  },
  {
   "cell_type": "markdown",
   "metadata": {},
   "source": [
    "# Lista"
   ]
  },
  {
   "cell_type": "code",
   "execution_count": 5,
   "metadata": {},
   "outputs": [
    {
     "data": {
      "text/plain": [
       "list"
      ]
     },
     "execution_count": 5,
     "metadata": {},
     "output_type": "execute_result"
    }
   ],
   "source": [
    "lista_times = [\"vasco\",\"flamengo\",\"fluminense\",\"são paulo\"]\n",
    "type(lista_times)"
   ]
  },
  {
   "cell_type": "markdown",
   "metadata": {},
   "source": [
    "# Tupla "
   ]
  },
  {
   "cell_type": "code",
   "execution_count": 4,
   "metadata": {},
   "outputs": [
    {
     "data": {
      "text/plain": [
       "tuple"
      ]
     },
     "execution_count": 4,
     "metadata": {},
     "output_type": "execute_result"
    }
   ],
   "source": [
    "tupla_times = (\"vasco\",\"flamengo\",\"fluminense\",\"são paulo\")\n",
    "type(tupla_times)"
   ]
  },
  {
   "cell_type": "markdown",
   "metadata": {},
   "source": [
    "# Conjuntos"
   ]
  },
  {
   "cell_type": "code",
   "execution_count": 3,
   "metadata": {},
   "outputs": [
    {
     "data": {
      "text/plain": [
       "{'flamengo', 'fluminense', 'são paulo', 'vasco'}"
      ]
     },
     "execution_count": 3,
     "metadata": {},
     "output_type": "execute_result"
    }
   ],
   "source": [
    "conjunto_times = {\"vasco\",\"flamengo\",\"fluminense\",\"são paulo\",\"vasco\"}\n",
    "type(conjunto_times)\n",
    "conjunto_times\n"
   ]
  },
  {
   "cell_type": "markdown",
   "metadata": {},
   "source": [
    "# Dicionário\n",
    "\n",
    "Um dicionário é uma coleção de pares chave-valor, onde cada chave é única. Você pode usar um icionário para associar informações especificas a cada tipo de imóvel."
   ]
  },
  {
   "cell_type": "code",
   "execution_count": 14,
   "metadata": {},
   "outputs": [
    {
     "ename": "IndentationError",
     "evalue": "expected an indented block after 'for' statement on line 15 (4228756889.py, line 16)",
     "output_type": "error",
     "traceback": [
      "\u001b[1;36m  Cell \u001b[1;32mIn[14], line 16\u001b[1;36m\u001b[0m\n\u001b[1;33m    print(f\"{apartamento}: {quantidade}\")\u001b[0m\n\u001b[1;37m    ^\u001b[0m\n\u001b[1;31mIndentationError\u001b[0m\u001b[1;31m:\u001b[0m expected an indented block after 'for' statement on line 15\n"
     ]
    }
   ],
   "source": [
    "# Acessando valores no discionário\n",
    "apartaemntos = {\n",
    "    \"tagiatinga\": 3,\n",
    "    \"brazlândia\": 5,\n",
    "    \"ceilândia\": 2,\n",
    "}\n",
    "\n",
    "# Acessando valores no dicionário\n",
    "print(apartamentos[\"taguatinga\"])   # Saída: 3\n",
    "\n",
    "# Adicionando um novo apartamento\n",
    "apartamento[\"candangolândia\"] = 4\n",
    "\n",
    "# Iterando sobre as chaves e valores\n",
    "for apartamento, quantidade in apartamentos.items():\n",
    "print(f\"{apartamento}: {quantidade}\")\n"
   ]
  }
 ],
 "metadata": {
  "kernelspec": {
   "display_name": ".venv",
   "language": "python",
   "name": "python3"
  },
  "language_info": {
   "codemirror_mode": {
    "name": "ipython",
    "version": 3
   },
   "file_extension": ".py",
   "mimetype": "text/x-python",
   "name": "python",
   "nbconvert_exporter": "python",
   "pygments_lexer": "ipython3",
   "version": "3.12.4"
  }
 },
 "nbformat": 4,
 "nbformat_minor": 2
}
